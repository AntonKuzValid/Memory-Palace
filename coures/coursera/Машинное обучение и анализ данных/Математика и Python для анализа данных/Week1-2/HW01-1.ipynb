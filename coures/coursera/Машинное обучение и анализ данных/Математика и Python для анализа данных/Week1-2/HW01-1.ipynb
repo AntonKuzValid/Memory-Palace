{
 "cells": [
  {
   "cell_type": "markdown",
   "metadata": {},
   "source": [
    "Считываем строки и переводим в нижний регистр"
   ]
  },
  {
   "cell_type": "code",
   "execution_count": 3,
   "metadata": {},
   "outputs": [],
   "source": [
    "with open('sentenses.txt','r',newline='') as file:\n",
    "    sentenses = [line.lower() for line in file.readlines()]"
   ]
  },
  {
   "cell_type": "markdown",
   "metadata": {},
   "source": [
    "Произведите токенизацию, то есть разбиение текстов на слова"
   ]
  },
  {
   "cell_type": "code",
   "execution_count": 84,
   "metadata": {},
   "outputs": [],
   "source": [
    "import re\n",
    "from functools import reduce\n",
    "from collections import Counter\n",
    "\n",
    "words = dict()\n",
    "for ind,sentense in enumerate(sentenses):\n",
    "    words[ind] = list(filter(lambda x: x != '',re.split('[^a-z]',sentense)))\n",
    "allwords = set(reduce(list.__add__,words.values()))\n",
    "\n",
    "result = dict()\n",
    "for ind , sentense in words.items():\n",
    "    counter = Counter(sentense)\n",
    "    result[ind] = [counter[x] for x in allwords]"
   ]
  },
  {
   "cell_type": "markdown",
   "metadata": {},
   "source": [
    "Создаем матрицу размера n * d, где n — число предложений. Заполняем ее: элемент с индексом (i, j) в этой матрице должен быть равен количеству вхождений j-го слова в i-е предложение. Получается матрица размера 22 * 254"
   ]
  },
  {
   "cell_type": "code",
   "execution_count": 85,
   "metadata": {},
   "outputs": [
    {
     "data": {
      "text/plain": [
       "(22, 254)"
      ]
     },
     "execution_count": 85,
     "metadata": {},
     "output_type": "execute_result"
    }
   ],
   "source": [
    "import numpy as np\n",
    "\n",
    "matrix = np.array(list(result.values()))\n",
    "matrix.shape"
   ]
  },
  {
   "cell_type": "markdown",
   "metadata": {},
   "source": [
    "Найдем косинусное расстояние от предложения в самой первой строке (In comparison to dogs, cats have not undergone...) до всех остальных с помощью функции scipy.spatial.distance.cosine."
   ]
  },
  {
   "cell_type": "code",
   "execution_count": 119,
   "metadata": {},
   "outputs": [
    {
     "data": {
      "text/plain": [
       "'6 4'"
      ]
     },
     "execution_count": 119,
     "metadata": {},
     "output_type": "execute_result"
    }
   ],
   "source": [
    "import scipy\n",
    "\n",
    "dist = np.array([scipy.spatial.distance.cosine(matrix[0,:], row) for row in matrix[1:,:]])\n",
    "\n",
    "with open('submission-1.txt','w', newline='') as file:\n",
    "    for_writing = ' '.join(str(x+1) for x in np.argpartition(dist, 2)[:2])\n",
    "    file.write(for_writing)\n",
    "for_writing"
   ]
  },
  {
   "cell_type": "code",
   "execution_count": null,
   "metadata": {},
   "outputs": [],
   "source": []
  }
 ],
 "metadata": {
  "kernelspec": {
   "display_name": "Python 3",
   "language": "python",
   "name": "python3"
  },
  "language_info": {
   "codemirror_mode": {
    "name": "ipython",
    "version": 3
   },
   "file_extension": ".py",
   "mimetype": "text/x-python",
   "name": "python",
   "nbconvert_exporter": "python",
   "pygments_lexer": "ipython3",
   "version": "3.7.1"
  }
 },
 "nbformat": 4,
 "nbformat_minor": 2
}
